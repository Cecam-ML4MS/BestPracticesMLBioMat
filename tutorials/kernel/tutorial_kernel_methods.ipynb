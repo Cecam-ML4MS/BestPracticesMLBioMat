{
 "cells": [
  {
   "cell_type": "markdown",
   "metadata": {
    "id": "yOyfVHby2NmH"
   },
   "source": [
    "## Tutorial for kernel-based methods\n",
    "This jupyter notebook is part of the CECAM workshop \"Machine-learned potentials in molecular simulation: best practices and tutorials\".\n",
    "\n",
    "*Credits:* The notebook relies on the work of the following repositories:\n",
    "\n",
    "- https://github.com/qmlcode/qml/tree/develop\n",
    "- https://github.com/ferchault/APDFT/tree/master\n",
    "- https://github.com/andersx/oqml-md/tree/master\n",
    "\n",
    "Please check them out for more detailed examples!\n",
    "\n",
    "For more details regarding the theory behind kernel methods and more advanced functionality check out:\n",
    "- https://www.qmlcode.org/index.html\n",
    "- \"FCHL revisited: Faster and more accurate quantum machine learning\", Christensen et al. (2020), DOI: `10.1063/1.5126701`.\n",
    "- \"Fast and Accurate Modeling of Molecular Atomization Energies with Machine Learning\", Rupp et al. (2012), DOI: `10.1103/PhysRevLett.108.058301`"
   ]
  },
  {
   "cell_type": "markdown",
   "metadata": {
    "id": "pYyZpvhV2NmJ"
   },
   "source": [
    "### Outline\n",
    "\n",
    "The notebook is divided into three parts:\n",
    "\n",
    "1. The first part is a self-contained implementation in numpy using a \"simple\" feature represenation (i.e. coloumb matrix) to predict energies for the qmrxn20 dataset.\n",
    "\n",
    "2. The second part extends the ideas and used a more advanced feature representation to achieve improved accuracy.\n",
    "\n",
    "3. The final part uses the advanced features to also predict forces."
   ]
  },
  {
   "cell_type": "markdown",
   "metadata": {
    "id": "QOTOns6fIEDD"
   },
   "source": [
    "### General settings"
   ]
  },
  {
   "cell_type": "code",
   "execution_count": null,
   "metadata": {
    "id": "qcisl8kVdeb6"
   },
   "outputs": [],
   "source": [
    "import numpy as np\n",
    "from collections import namedtuple\n",
    "import functools\n",
    "import requests\n",
    "import io\n",
    "import gzip\n",
    "import tarfile\n",
    "\n",
    "np.random.seed(1234)"
   ]
  },
  {
   "cell_type": "code",
   "execution_count": null,
   "metadata": {
    "id": "uq37BRKHdehX"
   },
   "outputs": [],
   "source": [
    "# Mapping string to integer for nuclear charges\n",
    "NUCLEAR_CHARGE = {\n",
    " 'H'  :     1,\n",
    " 'He' :     2,\n",
    " 'Li' :     3,\n",
    " 'Be' :     4,\n",
    " 'B'  :     5,\n",
    " 'C'  :     6,\n",
    " 'N'  :     7,\n",
    " 'O'  :     8,\n",
    " 'F'  :     9,\n",
    " 'Ne' :    10,\n",
    " 'Na' :    11,\n",
    " 'Mg' :    12,\n",
    " 'Al' :    13,\n",
    " 'Si' :    14,\n",
    " 'P'  :    15,\n",
    " 'S'  :    16,\n",
    " 'Cl' :    17,\n",
    " 'Ar' :    18,\n",
    " 'K'  :    19,\n",
    " 'Ca' :    20,\n",
    " 'Sc' :    21,\n",
    " 'Ti' :    22,\n",
    " 'V'  :    23,\n",
    " 'Cr' :    24,\n",
    " 'Mn' :    25,\n",
    " 'Fe' :    26,\n",
    " 'Co' :    27,\n",
    " 'Ni' :    28,\n",
    " 'Cu' :    29,\n",
    " 'Zn' :    30,\n",
    " 'Ga' :    31,\n",
    " 'Ge' :    32,\n",
    " 'As' :    33,\n",
    " 'Se' :    34,\n",
    " 'Br' :    35,\n",
    " 'Kr' :    36,\n",
    " 'Rb' :    37,\n",
    " 'Sr' :    38,\n",
    " 'Y'  :    39,\n",
    " 'Zr' :    40,\n",
    " 'Nb' :    41,\n",
    " 'Mo' :    42,\n",
    " 'Tc' :    43,\n",
    " 'Ru' :    44,\n",
    " 'Rh' :    45,\n",
    " 'Pd' :    46,\n",
    " 'Ag' :    47,\n",
    " 'Cd' :    48,\n",
    " 'In' :    49,\n",
    " 'Sn' :    50,\n",
    " 'Sb' :    51,\n",
    " 'Te' :    52,\n",
    " 'I'  :    53,\n",
    " 'Xe' :    54,\n",
    " 'Cs' :    55,\n",
    " 'Ba' :    56,\n",
    " 'La' :    57,\n",
    " 'Ce' :    58,\n",
    " 'Pr' :    59,\n",
    " 'Nd' :    60,\n",
    " 'Pm' :    61,\n",
    " 'Sm' :    62,\n",
    " 'Eu' :    63,\n",
    " 'Gd' :    64,\n",
    " 'Tb' :    65,\n",
    " 'Dy' :    66,\n",
    " 'Ho' :    67,\n",
    " 'Er' :    68,\n",
    " 'Tm' :    69,\n",
    " 'Yb' :    70,\n",
    " 'Lu' :    71,\n",
    " 'Hf' :    72,\n",
    " 'Ta' :    73,\n",
    " 'W'  :    74,\n",
    " 'Re' :    75,\n",
    " 'Os' :    76,\n",
    " 'Ir' :    77,\n",
    " 'Pt' :    78,\n",
    " 'Au' :    79,\n",
    " 'Hg' :    80,\n",
    " 'Tl' :    81,\n",
    " 'Pb' :    82,\n",
    " 'Bi' :    83,\n",
    " 'Po' :    84,\n",
    " 'At' :    85,\n",
    " 'Rn' :    86,\n",
    " 'Fr' :    87,\n",
    " 'Ra' :    88,\n",
    " 'Ac' :    89,\n",
    " 'Th' :    90,\n",
    " 'Pa' :    91,\n",
    " 'U'  :    92,\n",
    " 'Np' :    93,\n",
    " 'Pu' :    94,\n",
    " 'Am' :    95,\n",
    " 'Cm' :    96,\n",
    " 'Bk' :    97,\n",
    " 'Cf' :    98,\n",
    " 'Es' :    99,\n",
    " 'Fm' :   100,\n",
    " 'Md' :   101,\n",
    " 'No' :   102,\n",
    " 'Lr' :   103,\n",
    " 'Rf' :   104,\n",
    " 'Db' :   105,\n",
    " 'Sg' :   106,\n",
    " 'Bh' :   107,\n",
    " 'Hs' :   108,\n",
    " 'Mt' :   109,\n",
    " 'Ds' :   110,\n",
    " 'Rg' :   111,\n",
    " 'Cn' :   112,\n",
    " 'Uuq':   114,\n",
    " 'Uuh':   116}\n",
    "\n",
    "# Auxiliary class to store all necessary information for a single compound\n",
    "Compound = namedtuple('Compound', ['name', 'coordinates', 'nuclear_charges', \"energy\", \"forces\"])"
   ]
  },
  {
   "cell_type": "markdown",
   "metadata": {
    "id": "CmpbE_ZP2NmJ"
   },
   "source": [
    "### Part 1: Numpy implementation"
   ]
  },
  {
   "cell_type": "markdown",
   "metadata": {
    "id": "OjSGRIUT2NmL"
   },
   "source": [
    "### Load dataset"
   ]
  },
  {
   "cell_type": "code",
   "execution_count": null,
   "metadata": {
    "id": "4TfDei7ddejv"
   },
   "outputs": [],
   "source": [
    "# Read xyz file to return molecular coordinates and nuclear charges\n",
    "# Handles a single compound per call\n",
    "def read_xyz(data):\n",
    "    if type(data) == str:\n",
    "        f = open(data, \"r\")\n",
    "        lines = f.readlines()\n",
    "        f.close()\n",
    "    else:\n",
    "        lines = data\n",
    "\n",
    "    natoms = int(lines[0])\n",
    "    nuclear_charges = np.empty(natoms, dtype=int)\n",
    "    coordinates = np.empty((natoms, 3), dtype=float)\n",
    "\n",
    "    for i, line in enumerate(lines[2:natoms+2]):\n",
    "        tokens = line.split()\n",
    "\n",
    "        if len(tokens) < 4:\n",
    "            break\n",
    "\n",
    "        nuclear_charges[i] = NUCLEAR_CHARGE[tokens[0]]\n",
    "        coordinates[i] = np.asarray(tokens[1:4], dtype=float)\n",
    "    return coordinates, nuclear_charges"
   ]
  },
  {
   "cell_type": "code",
   "execution_count": null,
   "metadata": {
    "id": "S2_WtjVPdemh"
   },
   "outputs": [],
   "source": [
    "# Load dataset from cloud\n",
    "# Credits: https://github.com/ferchault/APDFT/blob/master/prototyping/mlmeta.py#L49\n",
    "@functools.lru_cache(maxsize=1)\n",
    "def database_qmrxn20():\n",
    "    \"\"\" Reads transitition state geometries from network, https://iopscience.iop.org/article/10.1088/2632-2153/aba822.\"\"\"\n",
    "    # energies\n",
    "    energiesurl = \"https://archive.materialscloud.org/record/file?file_id=0eaa6011-b9d7-4c30-b424-2097dd90c77c&filename=energies.txt.gz&record_id=414\"\n",
    "    res = requests.get(energiesurl)\n",
    "    webfh = io.BytesIO(res.content)\n",
    "    with gzip.GzipFile(fileobj=webfh) as fh:\n",
    "        lines = [_.decode(\"ascii\") for _ in fh.readlines()]\n",
    "    relevant = [\n",
    "        _ for _ in lines if \"transition-states/\" in _ and \".xyz\" in _ and \"lccsd\" in _\n",
    "    ]\n",
    "    filenames = [line.strip().split(\",\")[4] for line in relevant]\n",
    "    energies = np.array([float(line.strip().split(\",\")[-2]) for line in relevant])\n",
    "    # geometries\n",
    "    geometriesurl = \"https://archive.materialscloud.org/record/file?file_id=4905b29e-a989-48a3-8429-32e1db989972&filename=geometries.tgz&record_id=414\"\n",
    "    res = requests.get(geometriesurl)\n",
    "    webfh = io.BytesIO(res.content)\n",
    "    t = tarfile.open(fileobj=webfh)\n",
    "    mols = {}\n",
    "    for fo in t:\n",
    "        if fo.name in filenames:\n",
    "            lines = t.extractfile(fo).readlines()\n",
    "            lines = [_.decode(\"ascii\") for _ in lines]\n",
    "            coord, nuc_charges = read_xyz(lines)\n",
    "            mols[fo.name] = (coord, nuc_charges)\n",
    "    cs = [Compound(name, mols[name][0], mols[name][1], e, None) for name, e in zip(filenames, energies)]\n",
    "    return cs"
   ]
  },
  {
   "cell_type": "markdown",
   "metadata": {
    "id": "Ta3IMP2V2NmM"
   },
   "source": [
    "### Beginning of energy prediction pipeline\n"
   ]
  },
  {
   "cell_type": "code",
   "execution_count": null,
   "metadata": {
    "id": "cN-x9NBV5KfO"
   },
   "outputs": [],
   "source": [
    "# Solve linear matrix equation\n",
    "# Returns x for Ax = y\n",
    "def solve(A, y):\n",
    "    return np.linalg.solve(A, y)"
   ]
  },
  {
   "cell_type": "markdown",
   "metadata": {
    "id": "kMhIB57i2NmN"
   },
   "source": [
    "### Generate input features to perform a similarity measure\n",
    "A straightforward way of representing a molecule, defined by the geometry $R$ and the nuclear charges $Z$, is the coloumb matrix.\n",
    "The following function computes per compound a matrix $M$:\n",
    "\n",
    "\\begin{align}\n",
    "M_{ij} = \\left\\{\n",
    "        \\begin{array}{cl}\n",
    "         Z_{i}^{2.4} & \\text{if } i = j \\\\\n",
    "        \\frac{Z_{i}Z_{j}}{| {R}_{i} - {R}_{j}|}       & \\text{if } i \\neq j\n",
    "        \\end{array}\n",
    "        \\right.\n",
    "\\end{align}"
   ]
  },
  {
   "cell_type": "code",
   "execution_count": null,
   "metadata": {
    "id": "j1ZQK_V3desI"
   },
   "outputs": [],
   "source": [
    "\n",
    "def generate_coulomb_matrix(R, Z, size=23):\n",
    "    natoms = R.shape[0]\n",
    "\n",
    "    # add dummy variable to divide by zero\n",
    "    dist = 1 / (np.linalg.norm(R[..., None, :] - R[None, :, :], axis=-1) + np.eye(natoms)) - np.eye(natoms)\n",
    "\n",
    "    # scaling off-diagonal elements\n",
    "    dist *= np.outer(Z[:, None], Z[None, :])\n",
    "\n",
    "    # add diagonal elements\n",
    "    dist[np.diag_indices(natoms)]= 0.5 * Z**(2.4)\n",
    "\n",
    "    output = dist[np.triu_indices(natoms)].reshape(-1)\n",
    "    output = np.concatenate([output, np.zeros(int((size+1)*size / 2) - output.shape[0])])\n",
    "    return output\n"
   ]
  },
  {
   "cell_type": "markdown",
   "metadata": {
    "id": "zYYI1Qqe2NmN"
   },
   "source": [
    "### Gaussian kernel function\n",
    "The next step is to define a kernel function. Below a gaussian is choosen as a similarity metrics. Alternatives would be for example a Laplacian kernel or a linear kernel.\n",
    "\n",
    "It takes as two datasets $A \\in \\mathbb{R}^{n_1 \\times f}$ and $B \\in \\mathbb{R}^{n_2 \\times f}$ for $n_1$ and $n_2$ being the number of samples of each dataset (representing in our case molecules) and $f$ represents the feature dimension, e.g. the feature dimension of the coulomb matrix."
   ]
  },
  {
   "cell_type": "code",
   "execution_count": null,
   "metadata": {
    "id": "dEnM-y3g2NmN"
   },
   "outputs": [],
   "source": [
    "def gaussian_kernel(A, B, sigma=1000):\n",
    "    '''\n",
    "    Returns a kernel matrix.\n",
    "\n",
    "            Parameters:\n",
    "                    A (np.array): 2D array of shape (samples 1, feature represention)\n",
    "                    B (np.array): 2D array of shape (samples 2, feature represention)\n",
    "                    sigma (int): Scaling factor for the kernel function\n",
    "            Returns:\n",
    "                    K (np.array): 2D array of shape (samples 1, samples 2)\n",
    "    '''\n",
    "    norm = np.linalg.norm(A[None, :, :] - B[:, None, :], axis=-1)\n",
    "    K = np.exp(-norm/ (2*sigma**2))\n",
    "\n",
    "    return K"
   ]
  },
  {
   "cell_type": "markdown",
   "metadata": {
    "id": "ov0-QqT82NmO"
   },
   "source": [
    "### Define settings"
   ]
  },
  {
   "cell_type": "code",
   "execution_count": null,
   "metadata": {
    "id": "j-Dgr7IGdeue"
   },
   "outputs": [],
   "source": [
    "# Define number of samples for training and predictions\n",
    "# Large number of samples (> 1000) can be resource intensive (memory & compute)\n",
    "nb_samples = 100\n",
    "\n",
    "# Load data\n",
    "compounds = database_qmrxn20()\n",
    "\n",
    "# Shuffle\n",
    "np.random.shuffle(compounds)\n",
    "\n",
    "# Reduce the dataset\n",
    "# qmrxn20 contains in total ~4k molecules with reference energies\n",
    "compounds = compounds[:nb_samples]\n",
    "\n",
    "# Define dataset split\n",
    "dataset_size = int(0.5 * nb_samples)\n",
    "\n",
    "# Scaling factor for gaussian kernel function\n",
    "sigma = 4000\n",
    "\n",
    "# Generate input features\n",
    "X = np.stack([generate_coulomb_matrix(c.coordinates, c.nuclear_charges) for c in compounds])\n",
    "\n",
    "# Prediction labels\n",
    "y = np.stack([c.energy for c in compounds])\n",
    "\n",
    "X_train = X[:dataset_size]\n",
    "y_train = y[:dataset_size]\n",
    "\n",
    "# Compute gaussian kernel\n",
    "K_train = gaussian_kernel(X_train, X_train, sigma=sigma)\n",
    "K_train[np.diag_indices_from(K_train)] += 1e-8\n",
    "\n",
    "# Solve repression parameters\n",
    "alpha = solve(K_train, y_train)"
   ]
  },
  {
   "cell_type": "code",
   "execution_count": null,
   "metadata": {
    "colab": {
     "base_uri": "https://localhost:8080/"
    },
    "id": "iYQk12QCdew3",
    "outputId": "b5051900-adb0-40db-996a-79e00f75d5f0"
   },
   "outputs": [],
   "source": [
    "# Prediction of test set\n",
    "X_test = X[-dataset_size:]\n",
    "y_test = y[-dataset_size:]\n",
    "\n",
    "# Compute gaussian kernel between training set and test set\n",
    "K_pred = gaussian_kernel(X_test, X_train, sigma=sigma)\n",
    "\n",
    "# Prediction\n",
    "y_pred = np.dot(alpha, K_pred)\n",
    "\n",
    "# Calculate mean-absolute-error (MAE):\n",
    "print(f\"Mean absolute error: {np.mean(np.abs(y_pred - y_test))}\")"
   ]
  },
  {
   "cell_type": "markdown",
   "metadata": {
    "id": "VzDAHCaF2NmP"
   },
   "source": [
    "As one can see that for this rather small training and test set the mean absolute energy is rather inaccurate. This is partially due to a small training dataset but also connected to the coulomb matrix as input feature."
   ]
  },
  {
   "cell_type": "markdown",
   "metadata": {
    "id": "f3IZUk1n2NmP"
   },
   "source": [
    "### Part 2: Improved input features and kernel function\n",
    "\n",
    "The following part is relying on the qml package. For installation instruction see their website: https://www.qmlcode.org/index.html\n",
    "To use specific input features we need to install the developer branch:\n",
    "\n",
    "`pip install git+https://github.com/qmlcode/qml.git@develop`"
   ]
  },
  {
   "cell_type": "code",
   "execution_count": null,
   "metadata": {
    "colab": {
     "base_uri": "https://localhost:8080/"
    },
    "id": "7M70iV6GhXxU",
    "outputId": "cdc011b6-f388-4133-88a7-1e73c50ad8dd"
   },
   "outputs": [],
   "source": [
    "!pip install git+https://github.com/qmlcode/qml.git@develop\n"
   ]
  },
  {
   "cell_type": "code",
   "execution_count": null,
   "metadata": {
    "id": "ODj92FAdeGq_"
   },
   "outputs": [],
   "source": [
    "import qml\n",
    "from qml.representations import generate_fchl_acsf"
   ]
  },
  {
   "cell_type": "code",
   "execution_count": null,
   "metadata": {
    "colab": {
     "base_uri": "https://localhost:8080/"
    },
    "id": "wT6_AKOnoZU4",
    "outputId": "8ccf0e37-d2bf-42f2-c7bc-8819026f62fb"
   },
   "outputs": [],
   "source": [
    "# Define number of samples for training and predictions\n",
    "# Large number of samples (> 1000) can be resource intensive (memory & compute)\n",
    "nb_samples = 100\n",
    "\n",
    "# Load data - See above for a description of the data function\n",
    "compounds = database_qmrxn20()\n",
    "\n",
    "# Shuffle\n",
    "np.random.shuffle(compounds)\n",
    "\n",
    "# Reduce the dataset\n",
    "compounds = compounds[:nb_samples]\n",
    "\n",
    "# Define dataset split\n",
    "dataset_size = int(0.5 * nb_samples)\n",
    "\n",
    "# Scaling factor for gaussian kernel function\n",
    "sigma = 4000\n",
    "\n",
    "# Define the elements appearing in the dataset and maximal number of atoms for all molecules\n",
    "elements = [1, 35, 6, 7, 8, 9, 17]\n",
    "nmax = 21\n",
    "kwargs = {\"elements\":elements, \"nRs2\":12, \"nRs3\":5, \"pad\":nmax}\n",
    "\n",
    "# Convert the molecule into input features based on the work:\n",
    "# \"FCHL revisited: Faster and more accurate quantum machine learning\", Christensen et al. (2020), 10.1063/1.5126701.\n",
    "X = np.array([generate_fchl_acsf(c.nuclear_charges, c.coordinates, **kwargs) for c in compounds])\n",
    "Q = np.array([c.nuclear_charges for c in compounds])\n",
    "y = np.stack([c.energy for c in compounds])\n",
    "\n",
    "X_train = X[:dataset_size]\n",
    "Q_train = Q[:dataset_size]\n",
    "K_train = qml.kernels.get_local_kernel(X_train,  X_train, Q_train,  Q_train,  2000)\n",
    "\n",
    "y_train = y[:dataset_size]\n",
    "y_test = y[-dataset_size:]"
   ]
  },
  {
   "cell_type": "code",
   "execution_count": null,
   "metadata": {
    "id": "GcGe4FH23GOh"
   },
   "outputs": [],
   "source": [
    "alpha = solve(K_train, y_train)"
   ]
  },
  {
   "cell_type": "code",
   "execution_count": null,
   "metadata": {
    "id": "0_Ee6XlU3GKx"
   },
   "outputs": [],
   "source": [
    "K_pred = qml.kernels.get_local_kernel(X[-dataset_size:], X_train,  Q[-dataset_size:], Q_train,  2000)"
   ]
  },
  {
   "cell_type": "code",
   "execution_count": null,
   "metadata": {
    "colab": {
     "base_uri": "https://localhost:8080/"
    },
    "id": "c2yBqHoD3oB4",
    "outputId": "39eaf2f0-9fcf-491e-e99f-440592bf0588"
   },
   "outputs": [],
   "source": [
    "# Make the predictions\n",
    "y_pred = np.dot(alpha, K_pred)\n",
    "print(\"Test MAE:\", np.mean(np.abs(y_pred - y_test)))"
   ]
  },
  {
   "cell_type": "markdown",
   "metadata": {
    "id": "JLe_QuKNEgmH"
   },
   "source": [
    "### Part 3: Predict forces & energies\n",
    "\n",
    "*Credits:* https://github.com/andersx/oqml-md/blob/master/python/utils.py\n"
   ]
  },
  {
   "cell_type": "code",
   "execution_count": null,
   "metadata": {
    "id": "sJr296002NmQ"
   },
   "outputs": [],
   "source": [
    "from qml.math import svd_solve"
   ]
  },
  {
   "cell_type": "code",
   "execution_count": null,
   "metadata": {
    "id": "oYp_pUEEFZ5D"
   },
   "outputs": [],
   "source": [
    "raw_data = np.load(\"h2co_ccsdt_avtz_4001.npz\")"
   ]
  },
  {
   "cell_type": "code",
   "execution_count": null,
   "metadata": {
    "id": "VowppG9tJvN1"
   },
   "outputs": [],
   "source": [
    "# Define number of samples for training and predictions\n",
    "# Large number of samples (> 1000) can be resource intensive (memory & compute)\n",
    "nb_samples = 100\n",
    "\n",
    "# Scaling of kernel\n",
    "sigma = 2 # prev. 2000\n",
    "\n",
    "# Define dataset split\n",
    "dataset_size = int(0.5 * nb_samples)"
   ]
  },
  {
   "cell_type": "code",
   "execution_count": null,
   "metadata": {
    "colab": {
     "base_uri": "https://localhost:8080/"
    },
    "id": "qBfoOBUiF2JC",
    "outputId": "a79f81bf-32a7-403d-d5fb-deea56d73f5d"
   },
   "outputs": [],
   "source": [
    "from tqdm import tqdm\n",
    "\n",
    "max_atoms = max([len(_) for _ in raw_data[\"Z\"]])\n",
    "elements = sorted(list(set(raw_data[\"Z\"].reshape(-1).tolist())))\n",
    "\n",
    "x_train, x_test, dx_train, dx_test = [], [], [], []\n",
    "\n",
    "train_idx = list(np.arange(dataset_size))\n",
    "test_idx = list(np.arange(dataset_size, nb_samples, 1))\n",
    "\n",
    "# Prepare input features\n",
    "# \"FCHL revisited: Faster and more accurate quantum machine learning\", Christensen et al. (2020), DOI: 10.1063/1.5126701.\n",
    "for i in tqdm(train_idx):\n",
    "    x1, dx1 = generate_fchl_acsf(raw_data[\"Z\"][i], raw_data[\"R\"][i],\n",
    "            elements=elements, gradients=True,\n",
    "            pad=max_atoms)\n",
    "    x_train.append(x1)\n",
    "    dx_train.append(dx1)\n",
    "\n",
    "for i in tqdm(test_idx):\n",
    "    x1, dx1 = generate_fchl_acsf(raw_data[\"Z\"][i], raw_data[\"R\"][i],\n",
    "            elements=elements, gradients=True,\n",
    "            pad=max_atoms)\n",
    "    x_test.append(x1)\n",
    "    dx_test.append(dx1)\n",
    "\n",
    "E = raw_data[\"E\"]\n",
    "F = raw_data[\"F\"]\n",
    "nuclear_charges = raw_data[\"Z\"].tolist()\n",
    "\n",
    "# Trainings data\n",
    "X_train = np.array(x_train)\n",
    "dX_train = np.array(dx_train)\n",
    "\n",
    "E_train = E[train_idx]\n",
    "F_train = F[train_idx]\n",
    "\n",
    "Q_train  = [nuclear_charges[i] for i in train_idx]\n",
    "\n",
    "# Test data\n",
    "X_test = np.array(x_test)\n",
    "dX_test = np.array(dx_test)\n",
    "\n",
    "E_test = E[test_idx]\n",
    "F_test = F[test_idx]\n",
    "\n",
    "Q_test  = [nuclear_charges[i] for i in test_idx]"
   ]
  },
  {
   "cell_type": "code",
   "execution_count": null,
   "metadata": {
    "id": "Wqs_EQsTGhKQ"
   },
   "outputs": [],
   "source": [
    "# Compute Kernel for energy & forces\n",
    "Ke_train = qml.kernels.get_atomic_local_kernel(X_train, X_train, Q_train, Q_train, sigma)\n",
    "Kf_train = qml.kernels.get_atomic_local_gradient_kernel(X_train, X_train, dX_train, Q_train, Q_train, sigma)\n",
    "\n",
    "C = np.concatenate((Ke_train, Kf_train))\n",
    "Y = np.concatenate((E_train, F_train.flatten()))\n",
    "\n",
    "alphas = svd_solve(C, Y, rcond=1e-10)"
   ]
  },
  {
   "cell_type": "code",
   "execution_count": null,
   "metadata": {
    "colab": {
     "base_uri": "https://localhost:8080/"
    },
    "id": "97V-2GLjIhf_",
    "outputId": "15ce3c8e-c22f-4ad8-e53f-b220d38d254a"
   },
   "outputs": [],
   "source": [
    "# Check if we can predict training set\n",
    "\n",
    "y_pred_energy = np.dot(Ke_train, alphas)\n",
    "print(f\"Energy MAE: {np.mean(np.abs(y_pred_energy - E_train))}\")\n",
    "\n",
    "y_pred_force = np.dot(Kf_train, alphas)\n",
    "print(f\"Force MAE: {np.mean(np.abs(y_pred_force - F_train.flatten()))}\")\n"
   ]
  },
  {
   "cell_type": "code",
   "execution_count": null,
   "metadata": {
    "colab": {
     "base_uri": "https://localhost:8080/"
    },
    "id": "knb4r7UKTO_X",
    "outputId": "5c0f94b5-61e4-4dad-9b89-eefe649267de"
   },
   "outputs": [],
   "source": [
    "# Test error\n",
    "Ke_test = qml.kernels.get_atomic_local_kernel(X_train, X_test, Q_train, Q_test, sigma)\n",
    "Kf_test = qml.kernels.get_atomic_local_gradient_kernel(X_train, X_test, dX_test, Q_train, Q_test, sigma)\n",
    "\n",
    "y_pred_energy = np.dot(Ke_test, alphas)\n",
    "print(f\"Energy MAE: {np.mean(np.abs(y_pred_energy - E_test))}\")\n",
    "\n",
    "y_pred_force = np.dot(Kf_test, alphas)\n",
    "print(f\"Force MAE: {np.mean(np.abs(y_pred_force - F_test.flatten()))}\")"
   ]
  }
 ],
 "metadata": {
  "colab": {
   "provenance": []
  },
  "kernelspec": {
   "display_name": "Python 3",
   "name": "python3"
  },
  "language_info": {
   "name": "python"
  }
 },
 "nbformat": 4,
 "nbformat_minor": 0
}